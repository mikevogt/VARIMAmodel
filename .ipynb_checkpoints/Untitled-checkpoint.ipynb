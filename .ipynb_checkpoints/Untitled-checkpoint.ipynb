{
 "cells": [
  {
   "cell_type": "code",
   "execution_count": 57,
   "metadata": {},
   "outputs": [
    {
     "ename": "ValueError",
     "evalue": "too many values to unpack (expected 5)",
     "output_type": "error",
     "traceback": [
      "\u001b[1;31m---------------------------------------------------------------------------\u001b[0m",
      "\u001b[1;31mValueError\u001b[0m                                Traceback (most recent call last)",
      "\u001b[1;32m<ipython-input-57-0887284cf306>\u001b[0m in \u001b[0;36m<module>\u001b[1;34m\u001b[0m\n\u001b[0;32m      1\u001b[0m \u001b[1;32mfrom\u001b[0m \u001b[0msympy\u001b[0m \u001b[1;32mimport\u001b[0m \u001b[1;33m*\u001b[0m\u001b[1;33m\u001b[0m\u001b[1;33m\u001b[0m\u001b[0m\n\u001b[1;32m----> 2\u001b[1;33m \u001b[0ma\u001b[0m\u001b[1;33m,\u001b[0m\u001b[0mh\u001b[0m\u001b[1;33m,\u001b[0m\u001b[0mK\u001b[0m\u001b[1;33m,\u001b[0m\u001b[0mt\u001b[0m\u001b[1;33m,\u001b[0m\u001b[0mp\u001b[0m \u001b[1;33m=\u001b[0m\u001b[0msymbols\u001b[0m\u001b[1;33m(\u001b[0m\u001b[1;34m'x a h K t p'\u001b[0m\u001b[1;33m,\u001b[0m \u001b[0mnonzero\u001b[0m\u001b[1;33m=\u001b[0m\u001b[1;32mTrue\u001b[0m\u001b[1;33m)\u001b[0m\u001b[1;33m\u001b[0m\u001b[1;33m\u001b[0m\u001b[0m\n\u001b[0m\u001b[0;32m      3\u001b[0m \u001b[0mx\u001b[0m\u001b[1;33m=\u001b[0m\u001b[0msymbols\u001b[0m\u001b[1;33m(\u001b[0m\u001b[1;34m'x'\u001b[0m\u001b[1;33m)\u001b[0m\u001b[1;33m\u001b[0m\u001b[1;33m\u001b[0m\u001b[0m\n",
      "\u001b[1;31mValueError\u001b[0m: too many values to unpack (expected 5)"
     ]
    }
   ],
   "source": [
    "from sympy import *\n",
    "a,h,K,t,p =symbols('a h K t p', nonzero=True)\n",
    "x=symbols('x')"
   ]
  },
  {
   "cell_type": "code",
   "execution_count": 52,
   "metadata": {},
   "outputs": [],
   "source": [
    "exp = sin(pi*x/a)*E**(-I*p*x/h)"
   ]
  },
  {
   "cell_type": "code",
   "execution_count": 53,
   "metadata": {},
   "outputs": [
    {
     "data": {
      "text/latex": [
       "$\\displaystyle e^{- \\frac{i p x}{h}} \\sin{\\left(\\frac{\\pi x}{a} \\right)}$"
      ],
      "text/plain": [
       "exp(-I*p*x/h)*sin(pi*x/a)"
      ]
     },
     "execution_count": 53,
     "metadata": {},
     "output_type": "execute_result"
    }
   ],
   "source": [
    "exp"
   ]
  },
  {
   "cell_type": "code",
   "execution_count": 54,
   "metadata": {},
   "outputs": [],
   "source": [
    "exp2=integrate(exp,(x,-oo,oo))"
   ]
  },
  {
   "cell_type": "code",
   "execution_count": 55,
   "metadata": {},
   "outputs": [
    {
     "data": {
      "text/latex": [
       "$\\displaystyle \\begin{cases} \\frac{a}{\\pi \\left(- \\frac{a^{2} p^{2}}{\\pi^{2} h^{2}} + 1\\right)} + \\frac{\\pi h^{2}}{a p^{2} \\left(1 - \\frac{\\pi^{2} h^{2}}{a^{2} p^{2}}\\right)} & \\text{for}\\: 2 \\left|{\\arg{\\left(a \\right)}}\\right| = 0 \\wedge \\left|{- 2 \\arg{\\left(h \\right)} + 2 \\arg{\\left(p \\right)} + \\pi}\\right| < \\pi \\wedge \\left|{2 \\arg{\\left(h \\right)} - 2 \\arg{\\left(p \\right)} + \\pi}\\right| < \\pi \\\\\\int\\limits_{-\\infty}^{\\infty} e^{- \\frac{i p x}{h}} \\sin{\\left(\\frac{\\pi x}{a} \\right)}\\, dx & \\text{otherwise} \\end{cases}$"
      ],
      "text/plain": [
       "Piecewise((a/(pi*(-a**2*p**2/(pi**2*h**2) + 1)) + pi*h**2/(a*p**2*(1 - pi**2*h**2/(a**2*p**2))), Eq(2*Abs(arg(a)), 0) & (Abs(-2*arg(h) + 2*arg(p) + pi) < pi) & (Abs(2*arg(h) - 2*arg(p) + pi) < pi)), (Integral(exp(-I*p*x/h)*sin(pi*x/a), (x, -oo, oo)), True))"
      ]
     },
     "execution_count": 55,
     "metadata": {},
     "output_type": "execute_result"
    }
   ],
   "source": [
    "exp2"
   ]
  },
  {
   "cell_type": "code",
   "execution_count": 56,
   "metadata": {},
   "outputs": [
    {
     "data": {
      "text/latex": [
       "$\\displaystyle \\begin{cases} 0 & \\text{for}\\: 2 \\left|{\\arg{\\left(a \\right)}}\\right| = 0 \\wedge \\max\\left(\\left|{- 2 \\arg{\\left(h \\right)} + 2 \\arg{\\left(p \\right)} + \\pi}\\right|, \\left|{2 \\arg{\\left(h \\right)} - 2 \\arg{\\left(p \\right)} + \\pi}\\right|\\right) < \\pi \\\\\\int\\limits_{-\\infty}^{\\infty} e^{- \\frac{i p x}{h}} \\sin{\\left(\\frac{\\pi x}{a} \\right)}\\, dx & \\text{otherwise} \\end{cases}$"
      ],
      "text/plain": [
       "Piecewise((0, Eq(2*Abs(arg(a)), 0) & (Max(Abs(-2*arg(h) + 2*arg(p) + pi), Abs(2*arg(h) - 2*arg(p) + pi)) < pi)), (Integral(exp(-I*p*x/h)*sin(pi*x/a), (x, -oo, oo)), True))"
      ]
     },
     "execution_count": 56,
     "metadata": {},
     "output_type": "execute_result"
    }
   ],
   "source": [
    "simplify(exp2)"
   ]
  },
  {
   "cell_type": "code",
   "execution_count": null,
   "metadata": {},
   "outputs": [],
   "source": []
  },
  {
   "cell_type": "code",
   "execution_count": null,
   "metadata": {},
   "outputs": [],
   "source": []
  }
 ],
 "metadata": {
  "kernelspec": {
   "display_name": "Python 3",
   "language": "python",
   "name": "python3"
  },
  "language_info": {
   "codemirror_mode": {
    "name": "ipython",
    "version": 3
   },
   "file_extension": ".py",
   "mimetype": "text/x-python",
   "name": "python",
   "nbconvert_exporter": "python",
   "pygments_lexer": "ipython3",
   "version": "3.8.2"
  }
 },
 "nbformat": 4,
 "nbformat_minor": 4
}
